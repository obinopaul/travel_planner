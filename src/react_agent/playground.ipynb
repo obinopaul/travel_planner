{
 "cells": [
  {
   "cell_type": "code",
   "execution_count": 1,
   "metadata": {},
   "outputs": [],
   "source": [
    "import os\n",
    "\n",
    "os.chdir(\"../..\")"
   ]
  },
  {
   "cell_type": "code",
   "execution_count": 2,
   "metadata": {},
   "outputs": [
    {
     "name": "stderr",
     "output_type": "stream",
     "text": [
      "INFO:googlemaps.client:API queries_quota: 60\n",
      "INFO:googlemaps.client:API queries_quota: 60\n",
      "INFO:googlemaps.client:API queries_quota: 60\n",
      "INFO:googlemaps.client:API queries_quota: 60\n",
      "INFO:googlemaps.client:API queries_quota: 60\n",
      "INFO:googlemaps.client:API queries_quota: 60\n",
      "INFO:googlemaps.client:API queries_quota: 60\n",
      "INFO:googlemaps.client:API queries_quota: 60\n",
      "INFO:googlemaps.client:API queries_quota: 60\n",
      "INFO:googlemaps.client:API queries_quota: 60\n",
      "INFO:googlemaps.client:API queries_quota: 60\n",
      "INFO:googlemaps.client:API queries_quota: 60\n"
     ]
    },
    {
     "name": "stdout",
     "output_type": "stream",
     "text": [
      "✅ API keys validated.\n"
     ]
    },
    {
     "name": "stderr",
     "output_type": "stream",
     "text": [
      "DEBUG:pydot:pydot initializing\n",
      "DEBUG:pydot:pydot 3.0.4\n",
      "DEBUG:pydot.dot_parser:pydot dot_parser module initializing\n",
      "DEBUG:pydot.core:pydot core module initializing\n",
      "DEBUG:httpx:load_ssl_context verify=True cert=None trust_env=True http2=False\n",
      "DEBUG:httpx:load_verify_locations cafile='C:\\\\Users\\\\pault\\\\anaconda3\\\\envs\\\\app_project\\\\Library\\\\ssl\\\\cacert.pem'\n",
      "DEBUG:httpx:load_ssl_context verify=True cert=None trust_env=True http2=False\n",
      "DEBUG:httpx:load_verify_locations cafile='C:\\\\Users\\\\pault\\\\anaconda3\\\\envs\\\\app_project\\\\Library\\\\ssl\\\\cacert.pem'\n"
     ]
    }
   ],
   "source": [
    "from datetime import datetime, timezone\n",
    "from typing import Dict, List, Literal, cast\n",
    "import os \n",
    "from langchain_core.messages import HumanMessage, AIMessage, BaseMessage\n",
    "from langchain_core.prompts import ChatPromptTemplate, PromptTemplate\n",
    "from langchain_openai import ChatOpenAI as LangchainChatOpenAI\n",
    "# from langchain_core.messages import HumanMessage, SystemMessage, MessagesPlaceholder\n",
    "from langchain_core.messages import AIMessage\n",
    "from langchain_core.runnables import RunnableConfig\n",
    "from langgraph.graph import StateGraph, START, END\n",
    "from langgraph.prebuilt import ToolNode\n",
    "from pydantic import BaseModel, Field\n",
    "from src.react_agent.configuration import Configuration\n",
    "from src.react_agent.state import InputState, OverallState, OutputState\n",
    "from src.react_agent.tools import TOOLS\n",
    "from src.react_agent.utils import load_chat_model\n",
    "from typing import Any, List, Optional, Union\n",
    "from typing_extensions import Annotated\n",
    "from langchain_core.messages import AnyMessage\n",
    "from langgraph.graph import add_messages\n",
    "from dataclasses import dataclass, field\n",
    "from langchain_core.messages import HumanMessage, SystemMessage\n",
    "from langchain_openai import ChatOpenAI as LangchainChatDeepSeek\n",
    "from langchain_core.prompts import MessagesPlaceholder\n",
    "from langchain.schema import HumanMessage, SystemMessage, AIMessage  # Import AIMessage for assistant responses\n",
    "from langgraph.checkpoint.memory import MemorySaver\n",
    "\n",
    "import logging\n",
    "\n",
    "# Suppress debug messages from ipywidgets\n",
    "logging.getLogger('ipywidgets').setLevel(logging.WARNING)\n",
    "# Suppress debug messages from the comm module\n",
    "logging.getLogger('comm').setLevel(logging.WARNING)\n",
    "# Define the state object\n",
    "# state = OverallState()\n",
    "\n",
    "from src.react_agent.agent import ( travel_itinerary_planner, flight_finder_tool_node,\n",
    "                                accommodation_finder_node, activities_node, ticketmaster_node, recommendations_node)\n",
    "\n",
    "from src.react_agent.tools import (TOOLS, amadeus_tool, amadeus_hotel_tool, geoapify_tool, weather_tool,  AmadeusFlightSearchInput,\n",
    "                                   FlightSearchInput,\n",
    "                                   googlemaps_tool, flight_tool, google_scholar_tool, booking_tool, tavily_search_tool,\n",
    "                                   flight_tools_condition, accomodation_tools_condition, activity_planner_tools_condition,\n",
    "                                   multiply_tool, GoogleMapsPlacesInput, google_places_tool, google_find_place_tool, google_place_details_tool,\n",
    "                                   google_events_tool, GoogleEventsSearchInput, TicketmasterEventSearchInput, ticketmaster_tool,)\n",
    "\n",
    "\n",
    "from langchain.agents import create_react_agent, AgentExecutor\n",
    "from src.react_agent.prompts import SYSTEM_PROMPT, FLIGHT_FINDER_PROMPT, ACTIVITY_PLANNER_PROMPT, RECOMMENDATION_PROMPT\n",
    "from langchain.tools import BaseTool, Tool\n",
    "from IPython.display import Image, display\n",
    "from langchain_core.runnables.graph import CurveStyle, MermaidDrawMethod, NodeStyles\n",
    "from langgraph.prebuilt import tools_condition\n",
    "\n",
    "from datetime import date\n",
    "import logging\n",
    "\n",
    "# Suppress debug messages from ipywidgets\n",
    "logging.getLogger('ipywidgets').setLevel(logging.WARNING)\n",
    "logging.getLogger('comm').setLevel(logging.WARNING)\n",
    "logging.getLogger('tornado').setLevel(logging.WARNING)\n",
    "logging.getLogger('traitlets').setLevel(logging.WARNING)\n",
    "\n",
    "# Disable all logging globally\n",
    "logging.disable(logging.CRITICAL)  # Disable all logging below CRITICAL level\n",
    "\n",
    "# Redirect all logging output to os.devnull\n",
    "logging.basicConfig(level=logging.CRITICAL, handlers=[logging.NullHandler()])\n",
    "\n",
    "# Suppress warnings as well (optional)\n",
    "import warnings\n",
    "warnings.filterwarnings(\"ignore\")"
   ]
  },
  {
   "cell_type": "code",
   "execution_count": 3,
   "metadata": {},
   "outputs": [],
   "source": [
    "llm = LangchainChatDeepSeek(\n",
    "    api_key=os.getenv(\"DEEPSEEK_API_KEY\"),\n",
    "    model= \"deepseek-chat\",\n",
    "    base_url=\"https://api.deepseek.com\",\n",
    ")\n",
    "\n",
    "user_input = \"\"\"\n",
    "so I wanna go to New York City from Oklahoma and I'm pretty much looking for the best flights the most affordable flights that you c\n",
    "an get for me I want to go so today is 30th of January which means I would like to go in let's say in five days and I would like to \n",
    "come back five days later, keep in mind the year is 2025, right and I would be probably lodging in New Jersey even though I'm going to \n",
    "New York City I would lodge in New Jersey because it's affordable I would like to lodge in an Airbnb preferably and some of the things \n",
    "I would like to see you know I like the nightlife so I would prefer to go to nightclubs and dance and party and you know that's what \n",
    "I would like to do lots of nightlife lots of food I also would like to try in Nigerian restaurants in New York City so any way I can get \n",
    "Nigerian food that would be really really appreciated you know I would also like to relax go to the park and chill\n",
    "\n",
    "\"\"\"    \n"
   ]
  },
  {
   "cell_type": "markdown",
   "metadata": {},
   "source": [
    "> Test"
   ]
  },
  {
   "cell_type": "code",
   "execution_count": 4,
   "metadata": {},
   "outputs": [],
   "source": [
    "def flight_tools_condition(\n",
    "    state: Union[list[AnyMessage], dict[str, Any], BaseModel],\n",
    "    messages_key: str = \"messages\",\n",
    ") -> Literal[\"flight_tools\", \"__end__\"]:\n",
    "    \"\"\"Use in the conditional_edge to route to the ToolNode if the last message\n",
    "\n",
    "    has tool calls. Otherwise, route to the end.\n",
    "\n",
    "    Args:\n",
    "        state (Union[list[AnyMessage], dict[str, Any], BaseModel]): The state to check for\n",
    "            tool calls. Must have a list of messages (MessageGraph) or have the\n",
    "            \"messages\" key (StateGraph).\n",
    "\n",
    "    Returns:\n",
    "        The next node to route to.\n",
    "    \"\"\"\n",
    "    if isinstance(state, list):\n",
    "        ai_message = state[-1]\n",
    "    elif isinstance(state, dict) and (messages := state.get(messages_key, [])):\n",
    "        ai_message = messages[-1]\n",
    "    elif messages := getattr(state, messages_key, []):\n",
    "        ai_message = messages[-1]\n",
    "    else:\n",
    "        raise ValueError(f\"No messages found in input state to tool_edge: {state}\")\n",
    "    if hasattr(ai_message, \"tool_calls\") and len(ai_message.tool_calls) > 0:\n",
    "        return \"flight_tools\"\n",
    "    return \"__end__\"    # you can change this to any other node name instead of \"__end__\"\n"
   ]
  },
  {
   "cell_type": "code",
   "execution_count": 5,
   "metadata": {},
   "outputs": [
    {
     "data": {
      "image/png": "[encoded data removed]",
      "text/plain": [
       "<IPython.core.display.Image object>"
      ]
     },
     "metadata": {},
     "output_type": "display_data"
    }
   ],
   "source": [
    "# Define a new graph\n",
    "builder = StateGraph(OverallState, config_schema=Configuration)\n",
    "builder.add_node(\"interface\", travel_itinerary_planner)\n",
    "builder.add_node(\"flight_node\", flight_finder_tool_node)\n",
    "builder.add_node(\"accomodation_node\", accommodation_finder_node)\n",
    "builder.add_node(\"activities_node\", activities_node)\n",
    "builder.add_node(\"live_events_node\", ticketmaster_node)\n",
    "builder.add_node(\"recommendation_node\", recommendations_node)\n",
    "\n",
    "builder.add_edge(START, \"interface\")\n",
    "builder.add_edge(\"interface\", \"flight_node\")\n",
    "builder.add_edge(\"flight_node\", \"accomodation_node\")\n",
    "builder.add_edge(\"accomodation_node\", \"activities_node\")\n",
    "builder.add_edge(\"activities_node\", \"live_events_node\")\n",
    "builder.add_edge(\"live_events_node\", \"recommendation_node\")\n",
    "builder.add_edge(\"recommendation_node\", END)\n",
    "\n",
    "graph = builder.compile()\n",
    "\n",
    "display(\n",
    "    Image(\n",
    "        graph.get_graph().draw_mermaid_png(\n",
    "            draw_method=MermaidDrawMethod.API,\n",
    "        )\n",
    "    )\n",
    ")\n"
   ]
  },
  {
   "cell_type": "code",
   "execution_count": 7,
   "metadata": {},
   "outputs": [],
   "source": [
    "# **Input Collection**\n",
    "# user_input = \"I want to travel from Los Angeles to New York on 2025-2-15 and return on 2025-2-22 via La Guardia Airport. There is 1 adult. My budget is $5000. I need 1 room in The Bronx for 5 days. I prefer an AirBnB with free breakfast and a swimming pool. I also want to visit the museums and enjoy local cuisine, and go to the club at night. I might also want a massage.\"    \n",
    "\n",
    "\n",
    "# **Input State**\n",
    "input_state = {\"messages\": [HumanMessage(content=user_input)]}\n",
    "\n",
    "# **Graph Invocation**\n",
    "output = graph.invoke(input_state, {\"recursion_limit\": 3000})\n",
    "# output.get(\"messages\")[-1].content\n",
    "\n"
   ]
  },
  {
   "cell_type": "code",
   "execution_count": null,
   "metadata": {},
   "outputs": [],
   "source": []
  },
  {
   "cell_type": "code",
   "execution_count": 21,
   "metadata": {},
   "outputs": [
    {
     "data": {
      "text/plain": [
       "\"\\nso I wanna go to New York City from Oklahoma and I'm pretty much looking for the best flights the most affordable flights that you c\\nan get for me I want to go so today is 30th of January which means I would like to go in let's say in five days and I would like to \\ncome back five days later, keep in mind the year is 2025, right and I would be probably lodging in New Jersey even though I'm going to \\nNew York City I would lodge in New Jersey because it's affordable I would like to lodge in an Airbnb preferably and some of the things \\nI would like to see you know I like the nightlife so I would prefer to go to nightclubs and dance and party and you know that's what \\nI would like to do lots of nightlife lots of food I also would like to try in Nigerian restaurants in New York City so any way I can get \\nNigerian food that would be really really appreciated you know I would also like to relax go to the park and chill\\n\\n\""
      ]
     },
     "execution_count": 21,
     "metadata": {},
     "output_type": "execute_result"
    }
   ],
   "source": [
    "output['messages'][0].content"
   ]
  },
  {
   "cell_type": "code",
   "execution_count": 8,
   "metadata": {},
   "outputs": [
    {
     "data": {
      "text/plain": [
       "[{'Weather Forecast': '\"Expect cold temperatures (25°F to 40°F) with possible snow or rain. Pack warm, waterproof clothing and layers.\"'},\n",
       " {'Crime Rate': '\"New York City is generally safe, but be cautious of pickpocketing in crowded areas. Avoid poorly lit streets at night.\"'},\n",
       " {'Emergency Services': '\"Dial 911 for emergencies and 311 for non-emergency police assistance.\"'},\n",
       " {'Local Customs': '\"Tipping is customary (15-20% in restaurants, $1-2 per drink in bars). Dress codes in nightclubs can be strict.\"'},\n",
       " {'Local Laws': '\"Smoking is banned indoors, and public drinking is illegal. Be mindful of noise ordinances in residential areas.\"'},\n",
       " {'Currency & Exchange': '\"U.S. dollars are used. Credit cards are widely accepted, but carry some cash for smaller establishments.\"'},\n",
       " {'Health Requirements': '\"No special vaccinations are needed. Tap water is safe to drink. Pharmacies like CVS are widespread.\"'},\n",
       " {'Connectivity': '\"Purchase a SIM card at the airport or major stores. Free Wi-Fi is available in many public spaces.\"'},\n",
       " {'Sustainable Travel': '\"Use public transportation and look for eco-friendly options at restaurants and bars.\"'},\n",
       " {'Packing Essentials': '\"Bring warm clothing, waterproof boots, a reusable water bottle, and a portable charger.\"'}]"
      ]
     },
     "execution_count": 8,
     "metadata": {},
     "output_type": "execute_result"
    }
   ],
   "source": [
    "output['recommendations']"
   ]
  },
  {
   "cell_type": "code",
   "execution_count": null,
   "metadata": {},
   "outputs": [],
   "source": []
  },
  {
   "cell_type": "code",
   "execution_count": 7,
   "metadata": {},
   "outputs": [],
   "source": []
  }
 ],
 "metadata": {
  "kernelspec": {
   "display_name": "app_project",
   "language": "python",
   "name": "python3"
  },
  "language_info": {
   "codemirror_mode": {
    "name": "ipython",
    "version": 3
   },
   "file_extension": ".py",
   "mimetype": "text/x-python",
   "name": "python",
   "nbconvert_exporter": "python",
   "pygments_lexer": "ipython3",
   "version": "3.11.5"
  }
 },
 "nbformat": 4,
 "nbformat_minor": 2
}
